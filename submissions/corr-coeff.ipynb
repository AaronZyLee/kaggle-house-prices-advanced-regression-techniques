{
 "cells": [
  {
   "cell_type": "code",
   "execution_count": 8,
   "metadata": {
    "collapsed": true
   },
   "outputs": [],
   "source": [
    "import numpy as np\n",
    "import pandas as pd\n"
   ]
  },
  {
   "cell_type": "code",
   "execution_count": 9,
   "metadata": {
    "collapsed": true
   },
   "outputs": [],
   "source": [
    "pred_dt = pd.read_csv(\"sub-dt-20170502-184700.csv\")\n",
    "pred_elasticnet = pd.read_csv(\"sub-elasticnet-20170502-184916.csv\")\n",
    "pred_et = pd.read_csv(\"sub-et-20170502-184844.csv\")\n",
    "pred_lars = pd.read_csv(\"sub-lars-20170502-184918.csv\")\n",
    "pred_lasso = pd.read_csv(\"sub-lasso-20170502-184913.csv\")\n",
    "pred_lgb = pd.read_csv(\"sub-lgb-20170502-184911.csv\")\n",
    "pred_rf = pd.read_csv(\"sub-rf-20170502-184840.csv\")\n",
    "pred_ridge = pd.read_csv(\"sub-ridge-20170502-184914.csv\")\n",
    "pred_svm = pd.read_csv(\"sub-svm-rbf-20170502-184923.csv\")\n",
    "pred_xgb = pd.read_csv(\"sub-xgb-20170502-184907.csv\")"
   ]
  },
  {
   "cell_type": "raw",
   "metadata": {},
   "source": [
    "pred_dt\n",
    "print(\"dsfdf\")"
   ]
  },
  {
   "cell_type": "code",
   "execution_count": null,
   "metadata": {
    "collapsed": true
   },
   "outputs": [],
   "source": []
  }
 ],
 "metadata": {
  "kernelspec": {
   "display_name": "Python 3",
   "language": "python",
   "name": "python3"
  },
  "language_info": {
   "codemirror_mode": {
    "name": "ipython",
    "version": 3
   },
   "file_extension": ".py",
   "mimetype": "text/x-python",
   "name": "python",
   "nbconvert_exporter": "python",
   "pygments_lexer": "ipython3",
   "version": "3.6.0"
  }
 },
 "nbformat": 4,
 "nbformat_minor": 2
}
